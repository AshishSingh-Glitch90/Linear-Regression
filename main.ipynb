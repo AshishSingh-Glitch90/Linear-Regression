{
 "cells": [
  {
   "cell_type": "markdown",
   "metadata": {
    "id": "canadian-philadelphia"
   },
   "source": [
    "#### For this Assignment you have been given a data which is a subset of a bigger dataset which was collected by Buffalo Tax department. It contains information regarding the various properties in Buffalo.\n",
    "\n",
    "Number of Instances: 92508\n",
    "\n",
    "Number of Attributes: 16 (including the target variable)\n",
    "\n",
    "Attribute Information:\n",
    "\n",
    "| Column Name                | Description                                                                                                                                      | Type        |\n",
    "|----------------------------|--------------------------------------------------------------------------------------------------------------------------------------------------|-------------|\n",
    "| TOTAL VALUE                | The combined assessed value of the land and improvements on the parcel                                                                           | Number      |\n",
    "| FRONT                      | The width of the front of property (in feet)                                                                                                     | Number      |\n",
    "| DEPTH                      | The depth of the property (in feet)                                                                                                              | Number      |\n",
    "| PROPERTY CLASS             | Property Type Classification Codes describe the primary use of each parcel of real property on the assessment roll                               | Number      |\n",
    "| LAND VALUE                 | The assessed value of the land                                                                                                                   | Number      |\n",
    "| SALE PRICE                 | The price that the parcel of real property was last sold for                                                                                     | Number      |\n",
    "| YEAR BUILT                 | The year the primary building on the parcel was built                                                                                            | Number      |\n",
    "| TOTAL LIVING AREA          | The amount of living space (in square feet)                                                                                                      | Number      |\n",
    "| OVERALL CONDITION          | A grade of the condition of the property                                                                                                         | Number      |\n",
    "| BUILDING STYLE             | A code for the style of building                                                                                                                 | Number      |\n",
    "| HEAT TYPE                  | The type of heating system in the building (only applicable to residential properties)                                                           | Number      |\n",
    "| BASEMENT TYPE              | The type of basement on the property (only applicable to residential properties)                                                                 | Number      |\n",
    "| # OF STORIES               | The number of floors/Stories in the property                                                                                                     | Number      |\n",
    "| # OF FIREPLACES            | The number of fireplaces in a dwelling (only applicable to residential properties)                                                               | Number      |\n",
    "| # OF BEDS                  | The number of beds in a dwelling (only applicable to residential properties)                                                                     | Number      |\n",
    "| # OF BATHS                 | The number of baths in a dwelling (only applicable to residential properties)                                                                    | Number      |\n",
    "| # OF KITCHENS              | The number of kitchens in a dwelling (only applicable to residential properties)                                                                 | Number      |\n",
    "\n",
    "\n",
    "\n",
    "There are no missing Attribute Values.\n",
    "\n",
    "Your task is to implement a Linear Regression Model to predict the TOTAL VALUE of a property"
   ]
  },
  {
   "cell_type": "code",
   "execution_count": 318,
   "metadata": {
    "id": "planned-perry"
   },
   "outputs": [],
   "source": [
    "import pandas as pd\n",
    "import numpy as np\n",
    "from sklearn.model_selection import train_test_split\n",
    "import matplotlib.pyplot as plt\n",
    "from sklearn.preprocessing import MinMaxScaler\n",
    "from numpy.linalg import inv\n",
    "\n",
    "%matplotlib inline"
   ]
  },
  {
   "cell_type": "markdown",
   "metadata": {
    "id": "traditional-tissue"
   },
   "source": [
    "#### STEP 1 - Load Data (Already Done)"
   ]
  },
  {
   "cell_type": "code",
   "execution_count": 319,
   "metadata": {
    "id": "measured-report"
   },
   "outputs": [],
   "source": [
    "df = pd.read_csv('data.csv', dtype=np.float64)"
   ]
  },
  {
   "cell_type": "code",
   "execution_count": 320,
   "metadata": {
    "id": "preliminary-wireless"
   },
   "outputs": [],
   "source": [
    "y = np.asarray(df['TOTAL VALUE'] )\n",
    "y = y.reshape(y.shape[0],1)\n",
    "feature_cols = df.columns.to_list()\n",
    "feature_cols.remove('TOTAL VALUE')\n",
    "x = np.asarray(df[feature_cols])"
   ]
  },
  {
   "cell_type": "markdown",
   "metadata": {
    "id": "available-picnic"
   },
   "source": [
    "Variable **y** contains the total values of the property\n",
    "\n",
    "Variable **x** contains the features"
   ]
  },
  {
   "cell_type": "markdown",
   "metadata": {
    "id": "twelve-skill"
   },
   "source": [
    "#### STEP 2 - Split the Data into training and testing and validation split ( 70% Training, 20% Testing and 10% validation) ( Hint: you can use the sklearn library for this step only) ( 5 Points)"
   ]
  },
  {
   "cell_type": "code",
   "execution_count": 321,
   "metadata": {
    "id": "downtown-antarctica"
   },
   "outputs": [
    {
     "name": "stdout",
     "output_type": "stream",
     "text": [
      "(64755, 15) (18502, 15) (9251, 15)\n",
      "(64755, 1) (18502, 1) (9251, 1)\n"
     ]
    }
   ],
   "source": [
    "#STEP 2\n",
    "x_train, x_test, y_train, y_test = train_test_split(x,y, test_size = 0.2, random_state = 1) #splitting training set and test dataset\n",
    "x_train, x_validate,y_train, y_validate = train_test_split(x_train, y_train, test_size =.125, random_state = 1)#splitting again for validation dataset\n",
    "print(x_train.shape, x_test.shape,x_validate.shape)\n",
    "print(y_train.shape, y_test.shape, y_validate.shape)"
   ]
  },
  {
   "cell_type": "markdown",
   "metadata": {
    "id": "theoretical-allergy"
   },
   "source": [
    "#### STEP 3 - Scale Data Using Min Max Scaler (10 Points)\n",
    "For each feature scaled value can be calculated using $  x_{scaled} = \\frac{x - min(x)}{max(x) - min(x)}$\n"
   ]
  },
  {
   "cell_type": "code",
   "execution_count": 322,
   "metadata": {
    "id": "civilian-lounge",
    "scrolled": true
   },
   "outputs": [
    {
     "name": "stdout",
     "output_type": "stream",
     "text": [
      "(92508, 15)\n",
      "(64755, 15) (18502, 15) (9251, 15)\n",
      "(64755, 1) (18502, 1) (9251, 1)\n"
     ]
    }
   ],
   "source": [
    "#STEP 3\n",
    "\n",
    "for i in range(15):\n",
    "    x_scaled = (x[:,i] - np.min(x[:,i]))/(np.max(x[:,i]) - np.min(x[:,i])) #performing the scaling function\n",
    "    x[:,i] = x_scaled #replacing values in the initial array with the scaled values\n",
    "\n",
    "print(x.shape)\n",
    "\n",
    "#splitting again after normalizing or scaling to get the new values\n",
    "\n",
    "x_train, x_test, y_train, y_test = train_test_split(x,y, test_size = 0.2, random_state = 1)\n",
    "x_train, x_validate,y_train, y_validate = train_test_split(x_train, y_train, test_size =.125, random_state = 1)\n",
    "print(x_train.shape, x_test.shape,x_validate.shape)\n",
    "print(y_train.shape, y_test.shape, y_validate.shape)\n"
   ]
  },
  {
   "cell_type": "markdown",
   "metadata": {
    "id": "prostate-disney"
   },
   "source": [
    "### STEP 4 - Initialize values for the weights, No. of Epochs and Learning Rate (5 Points)"
   ]
  },
  {
   "cell_type": "code",
   "execution_count": 356,
   "metadata": {
    "id": "absolute-associate"
   },
   "outputs": [],
   "source": [
    "lr = 0.1 #learning rate\n",
    "epoch = 1000 #number of epochs\n",
    "n = x_train.shape[1] \n",
    "Theta = np.ones((n,1)) #initializing value of weights, theta are my weights and the bias."
   ]
  },
  {
   "cell_type": "markdown",
   "metadata": {
    "id": "moved-parking"
   },
   "source": [
    "#### STEP 5 - Train Linear Regression Model (40 Points)\n",
    " 5.1 Start a Loop For each Epoch\n",
    " \n",
    " 5.2 Find the predicted value using $ y(x,w) = w_0 + w_1x $ for the training and validation splits (10 Points)\n",
    " \n",
    " 5.3 Find the Loss using Mean Squared Error for the training and validation splits and store in a list (10 Points)\n",
    " \n",
    " 5.4 Calculate the Gradients (15 Points)\n",
    " \n",
    " 5.5 Update the weights using the gradients (5 Points)"
   ]
  },
  {
   "cell_type": "code",
   "execution_count": 367,
   "metadata": {
    "id": "alleged-diary"
   },
   "outputs": [],
   "source": [
    "# STEP 5\n",
    "\n",
    "def LinearRegression_with_gradient_descent(x_train, y_train, lr, epoch, x_validate, y_validate,x_test,y_test):\n",
    "    m = x_train.shape[0]  # number of samples\n",
    "    m_1 = x_validate.shape[0]\n",
    "    m_2 = x_test.shape[0]\n",
    "    ones_2 = np.ones((m_2,1))\n",
    "    ones_1 = np.ones((m_1,1))\n",
    "    ones =np.ones((m,1))  \n",
    "    x_train = np.concatenate((ones, x_train), axis=1)   # New x_train with x_train 0's = 1\n",
    "    x_validate = np.concatenate((ones_1, x_validate), axis=1) #new x_validate with x_validate 0's = 1\n",
    "    x_test = np.concatenate((ones_2,x_test), axis=1) #New x_test with x_test 0's = 1\n",
    "    n = x_train.shape[1]  \n",
    "    Theta = np.ones((n,1))    # parameter initialization\n",
    "    \n",
    "    h = np.dot(x_train, Theta)   # initial hypothesis for training data \n",
    "    h_validation = np.dot(x_validate,Theta) #initial hypothesis for validation data\n",
    "    h_test = np.dot(x_test,Theta) #initial hypothesis for testing data\n",
    "   \n",
    "    #initializing error list to capture error on training data \n",
    "    cost = np.ones(epoch)\n",
    "    #initializing error list to capture error on validation data\n",
    "    cost_validate = np.ones(epoch)\n",
    "    #initializing error list to capture error on testing data \n",
    "    cost_test = np.ones(epoch)\n",
    "    \n",
    "#start of gradient descent\n",
    "# for loop for epoch is started here \n",
    "    for i in range (0, epoch):\n",
    "#getting value of the bias w0 through partial differention\n",
    "        Theta[0] = Theta[0] - (lr / x_train.shape[0]) * np.sum((h - y_train))\n",
    "        for j in range(1, n):\n",
    "#finding predicted value using partial diffrentiation\n",
    "            Theta[j]= Theta[j] - (lr/ x_train.shape[0]) * np.sum(((h-y_train).T.dot(x_train[:, j])))\n",
    "#hypothesis for training set\n",
    "        h  = np.dot(x_train, Theta) \n",
    "# list for storing mean squared error for training set \n",
    "        cost[i] = 1/(2*m) * np.sum((np.square(h-y_train)))\n",
    "#hypothesis for validation set\n",
    "        h_validation = np.dot(x_validate,Theta)\n",
    "#list for storing mean squared error for validation\n",
    "        cost_validate[i] = 1/(2*m) * np.sum((np.square(h_validation-y_validate)))\n",
    "#hypothesis for test set\n",
    "        h_test = np.dot(x_test,Theta)\n",
    "#list for storing mean squared error for testing data\n",
    "        cost_test[i] = 1/(2*m) * np.sum((np.square(h_test-y_test)))\n",
    "        \n",
    "    return cost,cost_validate,Theta,cost_test"
   ]
  },
  {
   "cell_type": "code",
   "execution_count": 368,
   "metadata": {},
   "outputs": [
    {
     "name": "stdout",
     "output_type": "stream",
     "text": [
      "shape of theta (16, 1)\n",
      "weights [[-187451.16923537]\n",
      " [  34288.71086439]\n",
      " [  41395.63454867]\n",
      " [1934330.88979432]\n",
      " [ 803965.01375665]\n",
      " [ 180884.09953262]\n",
      " [  30622.76209051]\n",
      " [ 149098.52567735]\n",
      " [ 112119.79192646]\n",
      " [ -10272.83406739]\n",
      " [  86245.491035  ]\n",
      " [  70984.2460661 ]\n",
      " [ 201583.98585966]\n",
      " [ -50105.15249594]\n",
      " [ 186988.41672964]\n",
      " [ -59346.53164498]]\n"
     ]
    }
   ],
   "source": [
    "cost,cost_validation,Theta,cost_test = LinearRegression_with_gradient_descent(x_train, y_train, lr, epoch, x_validate, y_validate,x_test,y_test)\n",
    "#printing the minimum value of weights found after 1000 iterations\n",
    "print(\"weights\",theta)"
   ]
  },
  {
   "cell_type": "markdown",
   "metadata": {
    "id": "fuzzy-prairie"
   },
   "source": [
    "#### STEP 6 - Evaluate the Model ( 25 Points)\n",
    "6.1 Plot a graph of the Training and Validation Loss wrt epochs (10 Points)\n",
    "\n",
    "6.2 Find the R2 Score of the trained model for the Train, Test and Validation splits (15 Points)"
   ]
  },
  {
   "cell_type": "code",
   "execution_count": 369,
   "metadata": {
    "id": "outstanding-jewel"
   },
   "outputs": [
    {
     "data": {
      "image/png": "[encoded data removed]",
      "text/plain": [
       "<Figure size 432x288 with 1 Axes>"
      ]
     },
     "metadata": {
      "needs_background": "light"
     },
     "output_type": "display_data"
    },
    {
     "data": {
      "image/png": "[encoded data removed]",
      "text/plain": [
       "<Figure size 432x288 with 1 Axes>"
      ]
     },
     "metadata": {
      "needs_background": "light"
     },
     "output_type": "display_data"
    }
   ],
   "source": [
    "# STEP 6\n",
    "\n",
    "# plotting the plot for cost/error that I got from training set\n",
    "plt.plot(cost)\n",
    "plt.xlabel(\"Epoch/number of iteration)\")\n",
    "plt.ylabel( \"Cost/Loss for training dataset\")\n",
    "plt.show()\n",
    "\n",
    "#plotting the plot for cost/error that I got from the validation set\n",
    "plt.plot(cost_validation)\n",
    "plt.xlabel(\"Epoch/number of iteration)\")\n",
    "plt.ylabel( \"Cost/Loss for cross validation dataset\")\n",
    "plt.show()"
   ]
  },
  {
   "cell_type": "code",
   "execution_count": 370,
   "metadata": {},
   "outputs": [
    {
     "name": "stdout",
     "output_type": "stream",
     "text": [
      "r2 for train 0.9999924520780031\n",
      "r2 for test 0.9999927044105182\n",
      "r2 for validate 0.9999924185673947\n"
     ]
    }
   ],
   "source": [
    "#R2 score of the trained model for train, test and validation splits\n",
    "\n",
    "#finding R2 for training set\n",
    "sst = np.sum(np.square(y_train - np.mean(y_train,axis=0)))\n",
    "sse =  cost[-1]\n",
    "r2_train = 1 - (sse/sst)\n",
    "print (\"r2 for train\", r2_train)\n",
    "\n",
    "#finding R2 for test samples\n",
    "sse_test = cost_test[-1]\n",
    "sst_test = np.sum(np.square(y_test - np.mean(y_test,axis=0)))\n",
    "r2_test =  1 - (sse_test/sst_test)\n",
    "print(\"r2 for test\", r2_test)\n",
    "\n",
    "#finding R2 for validation set\n",
    "sst_validate = np.sum(np.square(y_validate - np.mean(y_validate,axis=0)))\n",
    "sse_validate = cost_validation[-1]\n",
    "r2_validate = 1 - (sse_validate/sst_validate)\n",
    "print(\"r2 for validate\", r2_validate)\n"
   ]
  },
  {
   "cell_type": "code",
   "execution_count": null,
   "metadata": {},
   "outputs": [],
   "source": []
  }
 ],
 "metadata": {
  "colab": {
   "name": "main.ipynb",
   "provenance": []
  },
  "kernelspec": {
   "display_name": "Python 3",
   "language": "python",
   "name": "python3"
  },
  "language_info": {
   "codemirror_mode": {
    "name": "ipython",
    "version": 3
   },
   "file_extension": ".py",
   "mimetype": "text/x-python",
   "name": "python",
   "nbconvert_exporter": "python",
   "pygments_lexer": "ipython3",
   "version": "3.8.5"
  }
 },
 "nbformat": 4,
 "nbformat_minor": 5
}
